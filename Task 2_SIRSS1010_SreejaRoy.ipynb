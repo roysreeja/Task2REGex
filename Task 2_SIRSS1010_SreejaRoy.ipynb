{
 "cells": [
  {
   "cell_type": "code",
   "execution_count": 5,
   "id": "49a7736b",
   "metadata": {},
   "outputs": [
    {
     "name": "stdout",
     "output_type": "stream",
     "text": [
      "My name is Sreeja Roy\n"
     ]
    },
    {
     "data": {
      "text/plain": [
       "'My'"
      ]
     },
     "execution_count": 5,
     "metadata": {},
     "output_type": "execute_result"
    }
   ],
   "source": [
    "a=lambda n: n.split()[0]\n",
    "n=input()\n",
    "a(n)\n",
    "\n"
   ]
  },
  {
   "cell_type": "code",
   "execution_count": 6,
   "id": "b194b310",
   "metadata": {},
   "outputs": [
    {
     "name": "stdout",
     "output_type": "stream",
     "text": [
      "I love watching cricket\n",
      "I\n"
     ]
    }
   ],
   "source": [
    "def firstword(n):\n",
    "    return n.split()[0]\n",
    "n=input()\n",
    "print(firstword(n))"
   ]
  },
  {
   "cell_type": "code",
   "execution_count": 9,
   "id": "acfb023c",
   "metadata": {},
   "outputs": [
    {
     "data": {
      "text/plain": [
       "['As', 'As', 'As', 'As', 'Sweet', 'and']"
      ]
     },
     "execution_count": 9,
     "metadata": {},
     "output_type": "execute_result"
    }
   ],
   "source": [
    "def firstword(n):\n",
    "    return n.split()[0]\n",
    "list1=[\"As warm as the sun\", \"As silly as fun\", \"As cool as a tree\", \n",
    "       \"As scary as the sea\", \"Sweet as sugar\", \"and everything nice\"]\n",
    "a=list(map(firstword,list1))\n",
    "a\n"
   ]
  },
  {
   "cell_type": "code",
   "execution_count": 17,
   "id": "82621e1b",
   "metadata": {},
   "outputs": [
    {
     "name": "stdout",
     "output_type": "stream",
     "text": [
      "8\n",
      "[1, 2]\n"
     ]
    }
   ],
   "source": [
    "def isprime(n):\n",
    "    for i in range(2,int(n**(0.5))+1):\n",
    "        if n%i==0:\n",
    "            return 0\n",
    "    else:\n",
    "        return 1\n",
    "n=int(input())\n",
    "l=[1]\n",
    "for i in range(2,n+1):\n",
    "    if n%i==0:\n",
    "        if (isprime(i)) ==1:\n",
    "            l.append(i)\n",
    "print(l)\n",
    "    "
   ]
  },
  {
   "cell_type": "code",
   "execution_count": 16,
   "id": "7fd564d8",
   "metadata": {},
   "outputs": [
    {
     "name": "stdout",
     "output_type": "stream",
     "text": [
      "30\n"
     ]
    }
   ],
   "source": [
    "def array2(l):\n",
    "    first=second=-1234569\n",
    "    for i in range(len(l)):\n",
    "        if l[i]>first:\n",
    "            second=first\n",
    "            first=l[i]\n",
    "        elif l[i]>second and l[i]!=first:\n",
    "            second=l[i]\n",
    "    if first==second:\n",
    "        return \"Second largest does not exist\"\n",
    "    return second\n",
    "print(array2([10,50,30,20]))"
   ]
  },
  {
   "cell_type": "code",
   "execution_count": null,
   "id": "a35adcd0",
   "metadata": {},
   "outputs": [],
   "source": []
  }
 ],
 "metadata": {
  "kernelspec": {
   "display_name": "Python 3",
   "language": "python",
   "name": "python3"
  },
  "language_info": {
   "codemirror_mode": {
    "name": "ipython",
    "version": 3
   },
   "file_extension": ".py",
   "mimetype": "text/x-python",
   "name": "python",
   "nbconvert_exporter": "python",
   "pygments_lexer": "ipython3",
   "version": "3.8.8"
  }
 },
 "nbformat": 4,
 "nbformat_minor": 5
}
